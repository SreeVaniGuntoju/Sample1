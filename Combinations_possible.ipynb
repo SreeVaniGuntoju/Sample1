{
  "nbformat": 4,
  "nbformat_minor": 0,
  "metadata": {
    "colab": {
      "name": "Combinations possible.ipynb",
      "provenance": [],
      "authorship_tag": "ABX9TyPtbprYLcwZgiMgsWJhVY/d",
      "include_colab_link": true
    },
    "kernelspec": {
      "name": "python3",
      "display_name": "Python 3"
    },
    "language_info": {
      "name": "python"
    }
  },
  "cells": [
    {
      "cell_type": "markdown",
      "metadata": {
        "id": "view-in-github",
        "colab_type": "text"
      },
      "source": [
        "<a href=\"https://colab.research.google.com/github/SreeVaniGuntoju/Sample1/blob/SV/Combinations_possible.ipynb\" target=\"_parent\"><img src=\"https://colab.research.google.com/assets/colab-badge.svg\" alt=\"Open In Colab\"/></a>"
      ]
    },
    {
      "cell_type": "code",
      "execution_count": null,
      "metadata": {
        "colab": {
          "base_uri": "https://localhost:8080/",
          "height": 148
        },
        "id": "rlyPbd4qsv6x",
        "outputId": "b56c2c18-1606-4182-bc76-0113f4a75ee1"
      },
      "outputs": [
        {
          "output_type": "error",
          "ename": "SyntaxError",
          "evalue": "ignored",
          "traceback": [
            "\u001b[0;36m  File \u001b[0;32m\"<ipython-input-4-0b56064bd6d5>\"\u001b[0;36m, line \u001b[0;32m5\u001b[0m\n\u001b[0;31m    c==0\u001b[0m\n\u001b[0m    ^\u001b[0m\n\u001b[0;31mSyntaxError\u001b[0m\u001b[0;31m:\u001b[0m invalid syntax\n"
          ]
        }
      ],
      "source": [
        "import itertools\n",
        "lst=list(map(int, input ().split(',')))\n",
        "S=int(input())\n",
        "Comb=list(itertools.Combinations(lst,4)\n",
        "c==0\n",
        "for i in Comb:\n",
        "    i=sum(i)\n",
        "    if(i==S):\n",
        "       c+=1\n",
        "print (c)"
      ]
    }
  ]
}